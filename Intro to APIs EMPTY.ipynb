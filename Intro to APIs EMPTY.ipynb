{
 "cells": [
  {
   "cell_type": "markdown",
   "id": "7196054f",
   "metadata": {},
   "source": [
    "# Working with APIs"
   ]
  },
  {
   "cell_type": "markdown",
   "id": "0547b71e",
   "metadata": {},
   "source": [
    "API stands for Application programming interface<br>\n",
    "APIs are a way for applications to talk to eachother<br>\n",
    "In python we use the requests package to handle the connection<br>\n",
    "<small><strong>Note: It is requests with an s not request(this is a different package)</strong></small><br>\n",
    "Most API's communicate with data in the form of JSON<br>\n",
    "JSON stands for JavaScript Object Notation"
   ]
  },
  {
   "cell_type": "code",
   "execution_count": 1,
   "id": "4db9d154",
   "metadata": {},
   "outputs": [],
   "source": [
    "#import the packages we need:\n"
   ]
  },
  {
   "cell_type": "markdown",
   "id": "e8c2ce51",
   "metadata": {},
   "source": [
    "We will be connecting to the Ergast F1 Racer API today:\n",
    "http://ergast.com/mrd/\n",
    "\n",
    "to view JSON data nicely in the Chrome browser install the extension JSONview"
   ]
  },
  {
   "cell_type": "code",
   "execution_count": null,
   "id": "52c440c6",
   "metadata": {},
   "outputs": [],
   "source": []
  },
  {
   "cell_type": "code",
   "execution_count": null,
   "id": "f60c1b4a",
   "metadata": {},
   "outputs": [],
   "source": []
  },
  {
   "cell_type": "code",
   "execution_count": 2,
   "id": "7b63a204",
   "metadata": {},
   "outputs": [],
   "source": [
    "#response object\n"
   ]
  },
  {
   "cell_type": "code",
   "execution_count": 3,
   "id": "c6d1fdaf",
   "metadata": {},
   "outputs": [],
   "source": [
    "#check and make sure we got a successful response from the API\n"
   ]
  },
  {
   "cell_type": "code",
   "execution_count": 4,
   "id": "ed4d3256",
   "metadata": {},
   "outputs": [],
   "source": [
    "#view the response as a JSON\n"
   ]
  },
  {
   "cell_type": "code",
   "execution_count": null,
   "id": "92e6cd2c",
   "metadata": {},
   "outputs": [],
   "source": []
  },
  {
   "cell_type": "code",
   "execution_count": 5,
   "id": "f074dfcf",
   "metadata": {},
   "outputs": [],
   "source": [
    "# We only want the Driver Standings\n"
   ]
  },
  {
   "cell_type": "code",
   "execution_count": null,
   "id": "be46a950",
   "metadata": {},
   "outputs": [],
   "source": []
  },
  {
   "cell_type": "code",
   "execution_count": null,
   "id": "3740c752",
   "metadata": {},
   "outputs": [],
   "source": []
  },
  {
   "cell_type": "markdown",
   "id": "6d546014",
   "metadata": {},
   "source": [
    "# <strong>Homework</strong>\n",
    "check out this Pokemon API https://pokeapi.co/\n",
    "Use the requests package to connect to this API and get and store data for 5 different pokemon.\n",
    "Get the pokemons: name, atleast one ability's name, base_experience, and the URL for its sprite (an image that shows up on screen) for the 'front_shiny', attack base_state, hp base_stat, defense base_stat"
   ]
  },
  {
   "cell_type": "code",
   "execution_count": 1,
   "id": "5a9081e3",
   "metadata": {},
   "outputs": [
    {
     "name": "stdout",
     "output_type": "stream",
     "text": [
      "Name: pikachu\n",
      "Ability: static\n",
      "Base Experience: 112\n",
      "Front Shiny Sprite URL: https://raw.githubusercontent.com/PokeAPI/sprites/master/sprites/pokemon/shiny/25.png\n",
      "Attack Base Stat: 55\n",
      "HP Base Stat: 35\n",
      "Defense Base Stat: 40\n",
      "\n",
      "\n",
      "Name: charmander\n",
      "Ability: blaze\n",
      "Base Experience: 62\n",
      "Front Shiny Sprite URL: https://raw.githubusercontent.com/PokeAPI/sprites/master/sprites/pokemon/shiny/4.png\n",
      "Attack Base Stat: 52\n",
      "HP Base Stat: 39\n",
      "Defense Base Stat: 43\n",
      "\n",
      "\n",
      "Name: squirtle\n",
      "Ability: torrent\n",
      "Base Experience: 63\n",
      "Front Shiny Sprite URL: https://raw.githubusercontent.com/PokeAPI/sprites/master/sprites/pokemon/shiny/7.png\n",
      "Attack Base Stat: 48\n",
      "HP Base Stat: 44\n",
      "Defense Base Stat: 65\n",
      "\n",
      "\n",
      "Name: bulbasaur\n",
      "Ability: overgrow\n",
      "Base Experience: 64\n",
      "Front Shiny Sprite URL: https://raw.githubusercontent.com/PokeAPI/sprites/master/sprites/pokemon/shiny/1.png\n",
      "Attack Base Stat: 49\n",
      "HP Base Stat: 45\n",
      "Defense Base Stat: 49\n",
      "\n",
      "\n",
      "Name: jigglypuff\n",
      "Ability: cute-charm\n",
      "Base Experience: 95\n",
      "Front Shiny Sprite URL: https://raw.githubusercontent.com/PokeAPI/sprites/master/sprites/pokemon/shiny/39.png\n",
      "Attack Base Stat: 45\n",
      "HP Base Stat: 115\n",
      "Defense Base Stat: 20\n",
      "\n",
      "\n"
     ]
    }
   ],
   "source": [
    "import requests\n",
    "\n",
    "def get_pokemon_data(pokemon_name):\n",
    "    url = f\"https://pokeapi.co/api/v2/pokemon/{pokemon_name.lower()}\"\n",
    "    response = requests.get(url)\n",
    "    if response.status_code == 200:\n",
    "        pokemon_data = response.json()\n",
    "        name = pokemon_data['name']\n",
    "        ability = pokemon_data['abilities'][0]['ability']['name']\n",
    "        base_experience = pokemon_data['base_experience']\n",
    "        front_shiny_sprite_url = pokemon_data['sprites']['front_shiny']\n",
    "        attack_base_stat = pokemon_data['stats'][1]['base_stat'] # Index 1 corresponds to attack\n",
    "        hp_base_stat = pokemon_data['stats'][0]['base_stat'] # Index 0 corresponds to HP\n",
    "        defense_base_stat = pokemon_data['stats'][2]['base_stat'] # Index 2 corresponds to defense\n",
    "        return {\n",
    "            'name': name,\n",
    "            'ability': ability,\n",
    "            'base_experience': base_experience,\n",
    "            'front_shiny_sprite_url': front_shiny_sprite_url,\n",
    "            'attack_base_stat': attack_base_stat,\n",
    "            'hp_base_stat': hp_base_stat,\n",
    "            'defense_base_stat': defense_base_stat\n",
    "        }\n",
    "    else:\n",
    "        print(f\"Failed to retrieve data for {pokemon_name}\")\n",
    "        return None\n",
    "\n",
    "# Get data for 5 different Pokémon\n",
    "pokemon_names = ['Pikachu', 'Charmander', 'Squirtle', 'Bulbasaur', 'Jigglypuff']\n",
    "pokemon_data_list = []\n",
    "\n",
    "for name in pokemon_names:\n",
    "    pokemon_data = get_pokemon_data(name)\n",
    "    if pokemon_data:\n",
    "        pokemon_data_list.append(pokemon_data)\n",
    "\n",
    "# Print or further process the retrieved data\n",
    "for pokemon_data in pokemon_data_list:\n",
    "    print(\"Name:\", pokemon_data['name'])\n",
    "    print(\"Ability:\", pokemon_data['ability'])\n",
    "    print(\"Base Experience:\", pokemon_data['base_experience'])\n",
    "    print(\"Front Shiny Sprite URL:\", pokemon_data['front_shiny_sprite_url'])\n",
    "    print(\"Attack Base Stat:\", pokemon_data['attack_base_stat'])\n",
    "    print(\"HP Base Stat:\", pokemon_data['hp_base_stat'])\n",
    "    print(\"Defense Base Stat:\", pokemon_data['defense_base_stat'])\n",
    "    print(\"\\n\")"
   ]
  }
 ],
 "metadata": {
  "kernelspec": {
   "display_name": "Python 3",
   "language": "python",
   "name": "python3"
  },
  "language_info": {
   "codemirror_mode": {
    "name": "ipython",
    "version": 3
   },
   "file_extension": ".py",
   "mimetype": "text/x-python",
   "name": "python",
   "nbconvert_exporter": "python",
   "pygments_lexer": "ipython3",
   "version": "3.12.2"
  }
 },
 "nbformat": 4,
 "nbformat_minor": 5
}
